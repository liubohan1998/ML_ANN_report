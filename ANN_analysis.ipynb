{
 "cells": [
  {
   "cell_type": "markdown",
   "metadata": {},
   "source": [
    "# Artificial Neural Network (ANN) Analysis"
   ]
  },
  {
   "cell_type": "markdown",
   "metadata": {},
   "source": [
    "---"
   ]
  },
  {
   "cell_type": "markdown",
   "metadata": {},
   "source": [
    "“Churn” dataset that is available in the UCIMachine Learning Repository:\n",
    "<br>\n",
    "https://canvas.ucdavis.edu/courses/553693/files/12846113?wrap=1\n",
    "<br>\n",
    "> **Introduction of variables:**\n",
    "<br>\n",
    "#State: Categorical, for the 50 states and the District of Columbia\n",
    "<br>\n",
    "#Account Length: Integer-valued, how long account has been active\n",
    "<br>\n",
    "#Area code: Categorical\n",
    "<br>\n",
    "#Phone Number: Essentially a surrogate for customer ID\n",
    "<br>\n",
    "#International Plan: Dichotomous categorical, yes or no\n",
    "<br>\n",
    "#Voice Mail Plan: Dichotomous categorical, yes or no\n",
    "<br>\n",
    "#Number of Voice Mail Messages: Integer-valued\n",
    "<br>\n",
    "#Total Day Minutes: Continuous,minutes customer used service during the day\n",
    "<br>\n",
    "#Total Day Calls: Integer-valued\n",
    "<br>\n",
    "#Total Day Charge: Continuous, perhaps based on above two variables\n",
    "<br>\n",
    "#Total Eve Minutes: Continuous, minutes customer used service during the evening\n",
    "<br>\n",
    "#Total Eve Calls: Integer-valued\n",
    "<br>\n",
    "#Total Eve Charge: Continuous, perhaps based on above two variables\n",
    "<br>\n",
    "#Total Night Minutes: Continuous, minutes customer used service during the night\n",
    "<br>\n",
    "#Total Night Calls: Integer-valued\n",
    "<br>\n",
    "#Total Night Charge: Continuous, perhaps based on above two variables\n",
    "<br>\n",
    "#Total International Minutes: Continuous, minutes customer used service to make international calls\n",
    "<br>\n",
    "#Total International Calls: Integer-valued\n",
    "<br>\n",
    "#Total International Charge: Continuous, perhaps based on above two variables\n",
    "<br>\n",
    "#Number of Calls to Customer Service: Integer-valued\n",
    "<br>\n",
    "#Churn: Target. Indicator of whether the customer has left the company (True or False)"
   ]
  },
  {
   "cell_type": "markdown",
   "metadata": {},
   "source": [
    "---"
   ]
  },
  {
   "cell_type": "markdown",
   "metadata": {},
   "source": [
    "### Import and preprocess the dataset"
   ]
  },
  {
   "cell_type": "code",
   "execution_count": 1,
   "metadata": {},
   "outputs": [],
   "source": [
    "import pandas as pd\n",
    "import numpy as np\n",
    "\n",
    "df = pd.read_csv('churn.txt')"
   ]
  },
  {
   "cell_type": "markdown",
   "metadata": {},
   "source": [
    "#### Only keep useful features."
   ]
  },
  {
   "cell_type": "code",
   "execution_count": 2,
   "metadata": {},
   "outputs": [],
   "source": [
    "df.drop(['State','Area Code','Phone','VMail Plan', \n",
    "         'Day Charge','Eve Calls','Eve Charge', \n",
    "         'Night Calls','Night Charge','Intl Charge'], axis=1, inplace=True)"
   ]
  },
  {
   "cell_type": "markdown",
   "metadata": {},
   "source": [
    "#### Look over the dataset"
   ]
  },
  {
   "cell_type": "code",
   "execution_count": 3,
   "metadata": {},
   "outputs": [
    {
     "name": "stdout",
     "output_type": "stream",
     "text": [
      "Shape of 'churn.txt' data: (3333, 11)\n"
     ]
    },
    {
     "data": {
      "text/html": [
       "<div>\n",
       "<style scoped>\n",
       "    .dataframe tbody tr th:only-of-type {\n",
       "        vertical-align: middle;\n",
       "    }\n",
       "\n",
       "    .dataframe tbody tr th {\n",
       "        vertical-align: top;\n",
       "    }\n",
       "\n",
       "    .dataframe thead th {\n",
       "        text-align: right;\n",
       "    }\n",
       "</style>\n",
       "<table border=\"1\" class=\"dataframe\">\n",
       "  <thead>\n",
       "    <tr style=\"text-align: right;\">\n",
       "      <th></th>\n",
       "      <th>Account Length</th>\n",
       "      <th>Int'l Plan</th>\n",
       "      <th>VMail Message</th>\n",
       "      <th>Day Mins</th>\n",
       "      <th>Day Calls</th>\n",
       "      <th>Eve Mins</th>\n",
       "      <th>Night Mins</th>\n",
       "      <th>Intl Mins</th>\n",
       "      <th>Intl Calls</th>\n",
       "      <th>CustServ Calls</th>\n",
       "      <th>Churn?</th>\n",
       "    </tr>\n",
       "  </thead>\n",
       "  <tbody>\n",
       "    <tr>\n",
       "      <th>0</th>\n",
       "      <td>128</td>\n",
       "      <td>no</td>\n",
       "      <td>25</td>\n",
       "      <td>265.1</td>\n",
       "      <td>110</td>\n",
       "      <td>197.4</td>\n",
       "      <td>244.7</td>\n",
       "      <td>10.0</td>\n",
       "      <td>3</td>\n",
       "      <td>1</td>\n",
       "      <td>False.</td>\n",
       "    </tr>\n",
       "    <tr>\n",
       "      <th>1</th>\n",
       "      <td>107</td>\n",
       "      <td>no</td>\n",
       "      <td>26</td>\n",
       "      <td>161.6</td>\n",
       "      <td>123</td>\n",
       "      <td>195.5</td>\n",
       "      <td>254.4</td>\n",
       "      <td>13.7</td>\n",
       "      <td>3</td>\n",
       "      <td>1</td>\n",
       "      <td>False.</td>\n",
       "    </tr>\n",
       "    <tr>\n",
       "      <th>2</th>\n",
       "      <td>137</td>\n",
       "      <td>no</td>\n",
       "      <td>0</td>\n",
       "      <td>243.4</td>\n",
       "      <td>114</td>\n",
       "      <td>121.2</td>\n",
       "      <td>162.6</td>\n",
       "      <td>12.2</td>\n",
       "      <td>5</td>\n",
       "      <td>0</td>\n",
       "      <td>False.</td>\n",
       "    </tr>\n",
       "  </tbody>\n",
       "</table>\n",
       "</div>"
      ],
      "text/plain": [
       "   Account Length Int'l Plan  VMail Message  Day Mins  Day Calls  Eve Mins  \\\n",
       "0             128         no             25     265.1        110     197.4   \n",
       "1             107         no             26     161.6        123     195.5   \n",
       "2             137         no              0     243.4        114     121.2   \n",
       "\n",
       "   Night Mins  Intl Mins  Intl Calls  CustServ Calls  Churn?  \n",
       "0       244.7       10.0           3               1  False.  \n",
       "1       254.4       13.7           3               1  False.  \n",
       "2       162.6       12.2           5               0  False.  "
      ]
     },
     "execution_count": 3,
     "metadata": {},
     "output_type": "execute_result"
    }
   ],
   "source": [
    "print(\"Shape of 'churn.txt' data:\", df.shape) # Have an overlook on the shape of the data.\n",
    "df.head(3)"
   ]
  },
  {
   "cell_type": "markdown",
   "metadata": {},
   "source": [
    "#### Normalize the numerical data"
   ]
  },
  {
   "cell_type": "code",
   "execution_count": 4,
   "metadata": {},
   "outputs": [],
   "source": [
    "# MinMaxScaler Normalization.\n",
    "\n",
    "from sklearn.preprocessing import MinMaxScaler\n",
    "\n",
    "scaler = MinMaxScaler(feature_range=(-1,1))\n",
    "df[['Account Length','VMail Message', \n",
    "   'Day Mins','Day Calls',\n",
    "   'Eve Mins','Night Mins',\n",
    "   'Intl Mins','Intl Calls',\n",
    "   'CustServ Calls']] = scaler.fit_transform(df[['Account Length','VMail Message', \n",
    "                                               'Day Mins','Day Calls',\n",
    "                                               'Eve Mins','Night Mins',\n",
    "                                               'Intl Mins','Intl Calls',\n",
    "                                               'CustServ Calls']])"
   ]
  },
  {
   "cell_type": "markdown",
   "metadata": {},
   "source": [
    "#### Encode the categorical data"
   ]
  },
  {
   "cell_type": "code",
   "execution_count": 5,
   "metadata": {},
   "outputs": [
    {
     "name": "stderr",
     "output_type": "stream",
     "text": [
      "/Users/liubohan/opt/anaconda3/lib/python3.8/site-packages/category_encoders/utils.py:21: FutureWarning: is_categorical is deprecated and will be removed in a future version.  Use is_categorical_dtype instead\n",
      "  elif pd.api.types.is_categorical(cols):\n"
     ]
    }
   ],
   "source": [
    "# OneHot Encoder\n",
    "\n",
    "import category_encoders as ce\n",
    "\n",
    "encoder = ce.OneHotEncoder(cols=['Int\\'l Plan', 'Churn?'])\n",
    "df = encoder.fit_transform(df)\n",
    "\n",
    "\n",
    "df.rename(columns={'Int\\'l Plan_1': 'Int\\'l Plan no', \n",
    "                   'Int\\'l Plan_2': 'Int\\'l Plan yes'}, inplace=True)\n",
    "df.rename(columns={'Churn?_1': 'Churn? False', \n",
    "                   'Churn?_2': 'Churn? True'}, inplace=True)"
   ]
  },
  {
   "cell_type": "markdown",
   "metadata": {},
   "source": [
    "#### Look over the dataset"
   ]
  },
  {
   "cell_type": "code",
   "execution_count": 6,
   "metadata": {},
   "outputs": [
    {
     "data": {
      "text/html": [
       "<div>\n",
       "<style scoped>\n",
       "    .dataframe tbody tr th:only-of-type {\n",
       "        vertical-align: middle;\n",
       "    }\n",
       "\n",
       "    .dataframe tbody tr th {\n",
       "        vertical-align: top;\n",
       "    }\n",
       "\n",
       "    .dataframe thead th {\n",
       "        text-align: right;\n",
       "    }\n",
       "</style>\n",
       "<table border=\"1\" class=\"dataframe\">\n",
       "  <thead>\n",
       "    <tr style=\"text-align: right;\">\n",
       "      <th></th>\n",
       "      <th>Account Length</th>\n",
       "      <th>Int'l Plan no</th>\n",
       "      <th>Int'l Plan yes</th>\n",
       "      <th>VMail Message</th>\n",
       "      <th>Day Mins</th>\n",
       "      <th>Day Calls</th>\n",
       "      <th>Eve Mins</th>\n",
       "      <th>Night Mins</th>\n",
       "      <th>Intl Mins</th>\n",
       "      <th>Intl Calls</th>\n",
       "      <th>CustServ Calls</th>\n",
       "      <th>Churn? False</th>\n",
       "      <th>Churn? True</th>\n",
       "    </tr>\n",
       "  </thead>\n",
       "  <tbody>\n",
       "    <tr>\n",
       "      <th>0</th>\n",
       "      <td>0.049587</td>\n",
       "      <td>1</td>\n",
       "      <td>0</td>\n",
       "      <td>-0.019608</td>\n",
       "      <td>0.511403</td>\n",
       "      <td>0.333333</td>\n",
       "      <td>0.085510</td>\n",
       "      <td>0.191501</td>\n",
       "      <td>0.00</td>\n",
       "      <td>-0.7</td>\n",
       "      <td>-0.777778</td>\n",
       "      <td>1</td>\n",
       "      <td>0</td>\n",
       "    </tr>\n",
       "    <tr>\n",
       "      <th>1</th>\n",
       "      <td>-0.123967</td>\n",
       "      <td>1</td>\n",
       "      <td>0</td>\n",
       "      <td>0.019608</td>\n",
       "      <td>-0.078677</td>\n",
       "      <td>0.490909</td>\n",
       "      <td>0.075062</td>\n",
       "      <td>0.243679</td>\n",
       "      <td>0.37</td>\n",
       "      <td>-0.7</td>\n",
       "      <td>-0.777778</td>\n",
       "      <td>1</td>\n",
       "      <td>0</td>\n",
       "    </tr>\n",
       "  </tbody>\n",
       "</table>\n",
       "</div>"
      ],
      "text/plain": [
       "   Account Length  Int'l Plan no  Int'l Plan yes  VMail Message  Day Mins  \\\n",
       "0        0.049587              1               0      -0.019608  0.511403   \n",
       "1       -0.123967              1               0       0.019608 -0.078677   \n",
       "\n",
       "   Day Calls  Eve Mins  Night Mins  Intl Mins  Intl Calls  CustServ Calls  \\\n",
       "0   0.333333  0.085510    0.191501       0.00        -0.7       -0.777778   \n",
       "1   0.490909  0.075062    0.243679       0.37        -0.7       -0.777778   \n",
       "\n",
       "   Churn? False  Churn? True  \n",
       "0             1            0  \n",
       "1             1            0  "
      ]
     },
     "execution_count": 6,
     "metadata": {},
     "output_type": "execute_result"
    }
   ],
   "source": [
    "# Have a look at the processed dataset.\n",
    "df.head(2)"
   ]
  },
  {
   "cell_type": "markdown",
   "metadata": {},
   "source": [
    "#### Split the dataset into training and tesing sets"
   ]
  },
  {
   "cell_type": "code",
   "execution_count": 7,
   "metadata": {},
   "outputs": [],
   "source": [
    "# Split dataset without ramdom\n",
    "\n",
    "from sklearn.model_selection import train_test_split\n",
    "\n",
    "X = df[['Account Length','Int\\'l Plan no','Int\\'l Plan yes','VMail Message',\n",
    "        'Day Mins','Day Calls','Eve Mins','Night Mins','Intl Mins','Intl Calls',\n",
    "        'CustServ Calls']]\n",
    "\n",
    "Y = df['Churn? True']\n",
    "\n",
    "x_train,x_test,y_train,y_test = train_test_split(X,Y, test_size=0.3, random_state=1)"
   ]
  },
  {
   "cell_type": "markdown",
   "metadata": {},
   "source": [
    "---"
   ]
  },
  {
   "cell_type": "markdown",
   "metadata": {},
   "source": [
    "### Binary classification by 4-layer ANN\n",
    "Aim to perform binary classification to classify 'Churn' based on other variables\n",
    "<br>\n",
    "<br>\n",
    "Develop a 4-layer artificial neural network (ANN) with sigmoid activations and MSE loss function.\n",
    "<br>\n",
    "Use sgd optimizer with no momentum."
   ]
  },
  {
   "cell_type": "code",
   "execution_count": 8,
   "metadata": {},
   "outputs": [],
   "source": [
    "# Define the model\n",
    "# Four layers; four nodes in each hidden layer; a single node in output node\n",
    "# Sigmoid used for all activation functions\n",
    "\n",
    "import tensorflow as tf\n",
    "from tensorflow import keras\n",
    "from tensorflow.keras import layers\n",
    "\n",
    "tf.random.set_seed(1)\n",
    "\n",
    "def create_model(hidden_layer1, hidden_layer2):\n",
    "    model = keras.Sequential()\n",
    "    model.add(layers.Dense(hidden_layer1, input_dim=x_train.shape[1], activation='sigmoid'))\n",
    "    model.add(layers.Dense(hidden_layer2,  activation='sigmoid'))\n",
    "    model.add(layers.Dense(1,  activation='sigmoid'))\n",
    "    model.compile(loss='mean_squared_error', optimizer='sgd', metrics=['accuracy']) \n",
    "    return model"
   ]
  },
  {
   "cell_type": "markdown",
   "metadata": {},
   "source": [
    "----"
   ]
  },
  {
   "cell_type": "markdown",
   "metadata": {},
   "source": [
    "### Train the model with Grid-Search\n",
    "Use gridsearch to determine the number of nodes in the hidden layers with a single iteration.\n",
    "<br>\n",
    "Get the layer weights and loss from the model."
   ]
  },
  {
   "cell_type": "code",
   "execution_count": 9,
   "metadata": {},
   "outputs": [],
   "source": [
    "from keras.wrappers.scikit_learn import KerasClassifier\n",
    "from sklearn.model_selection import GridSearchCV\n",
    "\n",
    "model_1a = KerasClassifier(build_fn=create_model)"
   ]
  },
  {
   "cell_type": "code",
   "execution_count": 10,
   "metadata": {},
   "outputs": [
    {
     "name": "stdout",
     "output_type": "stream",
     "text": [
      "59/59 [==============================] - 0s 737us/step - loss: 0.3792 - accuracy: 0.1499\n",
      "15/15 [==============================] - 0s 718us/step - loss: 0.3447 - accuracy: 0.1328\n",
      "59/59 [==============================] - 0s 735us/step - loss: 0.2305 - accuracy: 0.8561\n",
      "15/15 [==============================] - 0s 614us/step - loss: 0.2180 - accuracy: 0.8351\n",
      "59/59 [==============================] - 0s 711us/step - loss: 0.1770 - accuracy: 0.8419\n",
      "15/15 [==============================] - 0s 754us/step - loss: 0.1595 - accuracy: 0.8801\n",
      "59/59 [==============================] - 0s 726us/step - loss: 0.2500 - accuracy: 0.4322\n",
      "15/15 [==============================] - 0s 695us/step - loss: 0.2291 - accuracy: 0.8476\n",
      "59/59 [==============================] - 0s 785us/step - loss: 0.1385 - accuracy: 0.8597\n",
      "15/15 [==============================] - 0s 715us/step - loss: 0.1432 - accuracy: 0.8455\n",
      "59/59 [==============================] - 0s 685us/step - loss: 0.2073 - accuracy: 0.8501\n",
      "15/15 [==============================] - 0s 734us/step - loss: 0.1911 - accuracy: 0.8672\n",
      "59/59 [==============================] - 0s 650us/step - loss: 0.2181 - accuracy: 0.8561\n",
      "15/15 [==============================] - 0s 723us/step - loss: 0.2055 - accuracy: 0.8351\n",
      "59/59 [==============================] - 0s 691us/step - loss: 0.2317 - accuracy: 0.8419\n",
      "15/15 [==============================] - 0s 705us/step - loss: 0.2082 - accuracy: 0.8801\n",
      "59/59 [==============================] - 0s 693us/step - loss: 0.2066 - accuracy: 0.8674\n",
      "15/15 [==============================] - 0s 727us/step - loss: 0.1965 - accuracy: 0.8476\n",
      "59/59 [==============================] - 0s 727us/step - loss: 0.2915 - accuracy: 0.1403\n",
      "15/15 [==============================] - 0s 724us/step - loss: 0.2521 - accuracy: 0.1567\n",
      "59/59 [==============================] - 0s 714us/step - loss: 0.1752 - accuracy: 0.8501\n",
      "15/15 [==============================] - 0s 723us/step - loss: 0.1622 - accuracy: 0.8672\n",
      "59/59 [==============================] - 0s 719us/step - loss: 0.2115 - accuracy: 0.8561\n",
      "15/15 [==============================] - 0s 771us/step - loss: 0.1973 - accuracy: 0.8351\n",
      "59/59 [==============================] - 0s 722us/step - loss: 0.2716 - accuracy: 0.1875\n",
      "15/15 [==============================] - 0s 690us/step - loss: 0.2385 - accuracy: 0.8801\n",
      "59/59 [==============================] - 0s 754us/step - loss: 0.5340 - accuracy: 0.1326\n",
      "15/15 [==============================] - 0s 722us/step - loss: 0.4780 - accuracy: 0.1524\n",
      "59/59 [==============================] - 0s 782us/step - loss: 0.2208 - accuracy: 0.8597\n",
      "15/15 [==============================] - 0s 670us/step - loss: 0.2035 - accuracy: 0.8455\n",
      "59/59 [==============================] - 0s 705us/step - loss: 0.2985 - accuracy: 0.1499\n",
      "15/15 [==============================] - 0s 731us/step - loss: 0.2737 - accuracy: 0.1328\n",
      "59/59 [==============================] - 0s 785us/step - loss: 0.3884 - accuracy: 0.1439\n",
      "15/15 [==============================] - 0s 749us/step - loss: 0.3451 - accuracy: 0.1649\n",
      "59/59 [==============================] - 0s 650us/step - loss: 0.1391 - accuracy: 0.8419\n",
      "15/15 [==============================] - 0s 710us/step - loss: 0.1172 - accuracy: 0.8801\n",
      "59/59 [==============================] - 0s 691us/step - loss: 0.4645 - accuracy: 0.1326\n",
      "15/15 [==============================] - 0s 687us/step - loss: 0.4121 - accuracy: 0.1524\n",
      "59/59 [==============================] - 0s 719us/step - loss: 0.3638 - accuracy: 0.1403\n",
      "15/15 [==============================] - 0s 695us/step - loss: 0.3202 - accuracy: 0.1545\n",
      "59/59 [==============================] - 0s 742us/step - loss: 0.1985 - accuracy: 0.8501\n",
      "15/15 [==============================] - 0s 739us/step - loss: 0.1835 - accuracy: 0.8672\n",
      "59/59 [==============================] - 0s 794us/step - loss: 0.2703 - accuracy: 0.1598\n",
      "15/15 [==============================] - 0s 753us/step - loss: 0.2437 - accuracy: 0.8351\n",
      "59/59 [==============================] - 0s 825us/step - loss: 0.2031 - accuracy: 0.8419\n",
      "15/15 [==============================] - 0s 738us/step - loss: 0.1807 - accuracy: 0.8801\n",
      "59/59 [==============================] - 0s 647us/step - loss: 0.2165 - accuracy: 0.8674\n",
      "15/15 [==============================] - 0s 721us/step - loss: 0.1979 - accuracy: 0.8476\n",
      "59/59 [==============================] - 0s 815us/step - loss: 0.2208 - accuracy: 0.8597\n",
      "15/15 [==============================] - 0s 721us/step - loss: 0.2027 - accuracy: 0.8455\n",
      "59/59 [==============================] - 0s 697us/step - loss: 0.5521 - accuracy: 0.1499\n",
      "15/15 [==============================] - 0s 680us/step - loss: 0.5123 - accuracy: 0.1328\n",
      "59/59 [==============================] - 0s 812us/step - loss: 0.3498 - accuracy: 0.1439\n",
      "15/15 [==============================] - 0s 724us/step - loss: 0.2902 - accuracy: 0.1649\n",
      "59/59 [==============================] - 0s 802us/step - loss: 0.2073 - accuracy: 0.8419\n",
      "15/15 [==============================] - 0s 709us/step - loss: 0.1835 - accuracy: 0.8801\n",
      "59/59 [==============================] - 0s 812us/step - loss: 0.1934 - accuracy: 0.8674\n",
      "15/15 [==============================] - 0s 729us/step - loss: 0.1800 - accuracy: 0.8476\n",
      "59/59 [==============================] - 0s 702us/step - loss: 0.2193 - accuracy: 0.8597\n",
      "15/15 [==============================] - 0s 717us/step - loss: 0.2019 - accuracy: 0.8455\n",
      "59/59 [==============================] - 0s 755us/step - loss: 0.1763 - accuracy: 0.8501\n",
      "15/15 [==============================] - 0s 739us/step - loss: 0.1638 - accuracy: 0.8672\n",
      "59/59 [==============================] - 0s 806us/step - loss: 0.4009 - accuracy: 0.1439\n",
      "15/15 [==============================] - 0s 722us/step - loss: 0.3577 - accuracy: 0.1649\n",
      "59/59 [==============================] - 0s 814us/step - loss: 0.4504 - accuracy: 0.1581\n",
      "15/15 [==============================] - 0s 720us/step - loss: 0.4227 - accuracy: 0.1199\n",
      "59/59 [==============================] - 0s 833us/step - loss: 0.2234 - accuracy: 0.8674\n",
      "15/15 [==============================] - 0s 729us/step - loss: 0.2041 - accuracy: 0.8476\n",
      "59/59 [==============================] - 0s 702us/step - loss: 0.2483 - accuracy: 0.5011\n",
      "15/15 [==============================] - 0s 723us/step - loss: 0.2297 - accuracy: 0.8455\n",
      "59/59 [==============================] - 0s 711us/step - loss: 0.1393 - accuracy: 0.8501\n",
      "15/15 [==============================] - 0s 702us/step - loss: 0.1293 - accuracy: 0.8672\n",
      "59/59 [==============================] - 0s 819us/step - loss: 0.1462 - accuracy: 0.8561\n",
      "15/15 [==============================] - 0s 734us/step - loss: 0.1500 - accuracy: 0.8351\n",
      "59/59 [==============================] - 0s 703us/step - loss: 0.1670 - accuracy: 0.8419\n",
      "15/15 [==============================] - 0s 727us/step - loss: 0.1486 - accuracy: 0.8801\n",
      "59/59 [==============================] - 0s 708us/step - loss: 0.1786 - accuracy: 0.8674\n",
      "15/15 [==============================] - 0s 709us/step - loss: 0.1733 - accuracy: 0.8476\n",
      "59/59 [==============================] - 0s 714us/step - loss: 0.2587 - accuracy: 0.2621\n",
      "15/15 [==============================] - 0s 690us/step - loss: 0.2344 - accuracy: 0.8455\n",
      "59/59 [==============================] - 0s 670us/step - loss: 0.1278 - accuracy: 0.8501\n",
      "15/15 [==============================] - 0s 648us/step - loss: 0.1161 - accuracy: 0.8672\n",
      "59/59 [==============================] - 0s 717us/step - loss: 0.1597 - accuracy: 0.8561\n",
      "15/15 [==============================] - 0s 750us/step - loss: 0.1615 - accuracy: 0.8351\n",
      "59/59 [==============================] - 0s 783us/step - loss: 0.5195 - accuracy: 0.1581\n",
      "15/15 [==============================] - 0s 725us/step - loss: 0.4926 - accuracy: 0.1199\n",
      "59/59 [==============================] - 0s 825us/step - loss: 0.3404 - accuracy: 0.1326\n",
      "15/15 [==============================] - 0s 781us/step - loss: 0.2974 - accuracy: 0.1524\n",
      "59/59 [==============================] - 0s 773us/step - loss: 0.1959 - accuracy: 0.8597\n",
      "15/15 [==============================] - 0s 624us/step - loss: 0.1857 - accuracy: 0.8455\n",
      "73/73 [==============================] - 0s 818us/step - loss: 0.2425 - accuracy: 0.6756\n",
      "Best: 0.855115 using {'hidden_layer1': 3, 'hidden_layer2': 3}\n"
     ]
    }
   ],
   "source": [
    "param_grid = {'hidden_layer1':range(2,5), 'hidden_layer2':range(2,5)}\n",
    "grid = GridSearchCV(estimator=model_1a, param_grid=param_grid)\n",
    "grid_result = grid.fit(x_train, y_train)\n",
    "\n",
    "print(\"Best: %f using %s\" % (grid_result.best_score_, grid_result.best_params_))"
   ]
  },
  {
   "cell_type": "code",
   "execution_count": 11,
   "metadata": {},
   "outputs": [],
   "source": [
    "# The grid search suggest to use 3 nodes in hidden_layer1 and 3 nodes in hidden_layer2.\n",
    "grid_model = create_model(3, 3)"
   ]
  },
  {
   "cell_type": "code",
   "execution_count": 12,
   "metadata": {},
   "outputs": [
    {
     "name": "stdout",
     "output_type": "stream",
     "text": [
      "Weights:\n",
      "[array([[-4.9543452e-01, -4.1796389e-01, -1.5357959e-01],\n",
      "       [-2.3983717e-03, -4.7105569e-01, -1.8513203e-04],\n",
      "       [ 6.2265611e-01, -4.0984356e-01, -6.1909300e-01],\n",
      "       [-1.3899910e-01,  3.9081883e-01,  3.9925027e-01],\n",
      "       [-4.4734547e-01,  5.7371473e-01, -3.7463766e-01],\n",
      "       [ 5.4620862e-01,  2.3717225e-01,  2.5976646e-01],\n",
      "       [ 3.0386150e-01, -2.8679883e-01,  3.7658286e-01],\n",
      "       [-3.4311667e-01,  6.2150252e-01, -1.5988266e-01],\n",
      "       [-8.8559389e-03, -5.1289415e-01, -3.6430442e-01],\n",
      "       [ 3.4421581e-01,  4.8706305e-01,  6.3773644e-01],\n",
      "       [-2.5257984e-01,  6.7753017e-02, -3.1184056e-01]], dtype=float32), array([0., 0., 0.], dtype=float32)]\n",
      "[array([[-0.62432337, -0.9864683 ,  0.34454942],\n",
      "       [-0.01529169, -0.6658089 ,  0.92712903],\n",
      "       [ 0.5071087 , -0.9483743 ,  0.06502509]], dtype=float32), array([0., 0., 0.], dtype=float32)]\n",
      "[array([[-0.862174  ],\n",
      "       [ 0.53109634],\n",
      "       [ 0.5487397 ]], dtype=float32), array([0.], dtype=float32)]\n"
     ]
    }
   ],
   "source": [
    "# layer weights from the model\n",
    "print(\"Weights:\")\n",
    "for layer in grid_model.layers:\n",
    "    weights = layer.get_weights()\n",
    "    print(weights)"
   ]
  },
  {
   "cell_type": "code",
   "execution_count": 13,
   "metadata": {},
   "outputs": [
    {
     "name": "stdout",
     "output_type": "stream",
     "text": [
      "32/32 [==============================] - 0s 701us/step - loss: 0.2622 - accuracy: 0.1482\n",
      "Loss: 0.26214495301246643\n"
     ]
    }
   ],
   "source": [
    "# layer loss from the model\n",
    "x_array = np.asarray(x_test)\n",
    "y_array = np.asarray(y_test)\n",
    "\n",
    "score = grid_model.evaluate(x_array, y_array)\n",
    "print(\"Loss:\", score[0])"
   ]
  },
  {
   "cell_type": "markdown",
   "metadata": {},
   "source": [
    "---"
   ]
  },
  {
   "cell_type": "markdown",
   "metadata": {},
   "source": [
    "### Train the model with Back-Propagation (practice)\n",
    "Calculate the first round of weight updates with back-propagation for the two final layers (output to 2nd hidden layer; 2nd hidden layer to 1st hidden layer) for only the first sample.\n",
    "<br>\n",
    "**Note:** Initialize all weights to zero except the weights that are calculating, which can be initialized to 1. All nodes within the same layer will have the same weights and gradients."
   ]
  },
  {
   "cell_type": "code",
   "execution_count": 14,
   "metadata": {},
   "outputs": [],
   "source": [
    "# Setup new NN used for initializing weights.\n",
    "model_1b = keras.Sequential()\n",
    "model_1b.add(layers.Dense(3, input_dim=x_train.shape[1], activation='sigmoid'))\n",
    "model_1b.add(layers.Dense(3,  activation='sigmoid'))\n",
    "model_1b.add(layers.Dense(1,  activation='sigmoid'))"
   ]
  },
  {
   "cell_type": "code",
   "execution_count": 15,
   "metadata": {},
   "outputs": [],
   "source": [
    "w1 = np.zeros((11, 3)) # eleven input neurons for three neurons at the hidden layer1\n",
    "b1 = np.zeros((3,))    # one bias neuron for three neurons in the hidden layer1\n",
    "\n",
    "w2 = np.zeros((3, 3))  # three hidden1 neurons for three hidden2 neurons\n",
    "b2 = np.zeros((3,))    # one bias for three hidden2 neuron\n",
    "\n",
    "w3 = np.zeros((3, 1))  # three hidden2 neurons for one output neuron\n",
    "b3 = np.zeros((1,))    # one bias for one output neuron"
   ]
  },
  {
   "cell_type": "code",
   "execution_count": 16,
   "metadata": {},
   "outputs": [],
   "source": [
    "w1[:,:] = 0 # the weights for the all hidden1 neuron are all 0\n",
    "b1[:] = 0   # bias for the all hidden1 neuron are all 0\n",
    "\n",
    "w2[:, :] = 1 # weight for hidden1 hidden2 nodes are 1;\n",
    "b2[:] = 1 # bias for all hidden2 nodes are 1\n",
    "\n",
    "w3[:, :] = 1 # weight for hidden2 output is 1.\n",
    "b3[:] = 1 # bias for output node is 1.\n"
   ]
  },
  {
   "cell_type": "code",
   "execution_count": 17,
   "metadata": {},
   "outputs": [],
   "source": [
    "model_1b.set_weights([w1, b1, w2, b2, w3, b3])\n",
    "model_1b.compile(loss='mse', optimizer='sgd', metrics=['accuracy'])"
   ]
  },
  {
   "cell_type": "code",
   "execution_count": 18,
   "metadata": {},
   "outputs": [
    {
     "name": "stdout",
     "output_type": "stream",
     "text": [
      "[0.9775207]\n"
     ]
    }
   ],
   "source": [
    "# N3 output before back-propagation:\n",
    "pred = model_1b.predict(x_test)\n",
    "print(pred[0])"
   ]
  },
  {
   "cell_type": "code",
   "execution_count": 19,
   "metadata": {},
   "outputs": [],
   "source": [
    "class FitCallback(keras.callbacks.Callback):\n",
    "    def on_train_batch_end(self, batch, logs=None):\n",
    "        weights.append(self.model.layers[2].get_weights())\n",
    "        \n",
    "weights = []"
   ]
  },
  {
   "cell_type": "code",
   "execution_count": 20,
   "metadata": {},
   "outputs": [],
   "source": [
    "x_array = np.asarray(x_train[0:1])\n",
    "y_array = np.asarray(y_train[0:1])\n",
    "\n",
    "result = model_1b.fit(x_array, y_array, epochs=1, batch_size=64, verbose=0, callbacks=[FitCallback()])"
   ]
  },
  {
   "cell_type": "code",
   "execution_count": 21,
   "metadata": {},
   "outputs": [
    {
     "name": "stdout",
     "output_type": "stream",
     "text": [
      "[[array([[0.999603],\n",
      "       [0.999603],\n",
      "       [0.999603]], dtype=float32), array([0.9995704], dtype=float32)]]\n"
     ]
    }
   ],
   "source": [
    "# back-propagation form output to hidden layer 2:\n",
    "w_2z = []\n",
    "w_2z.append(model_1b.layers[2].get_weights())\n",
    "print(w_2z)"
   ]
  },
  {
   "cell_type": "code",
   "execution_count": 22,
   "metadata": {},
   "outputs": [
    {
     "name": "stdout",
     "output_type": "stream",
     "text": [
      "[[array([[0.9999849, 0.9999849, 0.9999849],\n",
      "       [0.9999849, 0.9999849, 0.9999849],\n",
      "       [0.9999849, 0.9999849, 0.9999849]], dtype=float32), array([0.9999699, 0.9999699, 0.9999699], dtype=float32)]]\n"
     ]
    }
   ],
   "source": [
    "# back-propagation form hidden layer 2 to hidden layer 1:\n",
    "w_12 = []\n",
    "w_12.append(model_1b.layers[1].get_weights())\n",
    "print(w_12)"
   ]
  },
  {
   "cell_type": "markdown",
   "metadata": {},
   "source": [
    "---"
   ]
  },
  {
   "cell_type": "markdown",
   "metadata": {},
   "source": [
    "### Test the model with self-defined dummy samples\n",
    "Create 2 dummy input samples and use the ANN model which was trained from the previous step to classify the output."
   ]
  },
  {
   "cell_type": "code",
   "execution_count": 23,
   "metadata": {},
   "outputs": [],
   "source": [
    "# Self-defined dummy samples\n",
    "\n",
    "d = {'Account Length':[-0.2, 10], \n",
    "     'Int\\'l Plan no': [1, 0], \n",
    "     'Int\\'l Plan yes': [0, 1],\n",
    "     'VMail Message': [-0.5, 20], \n",
    "     'Day Mins': [0.2, -15], \n",
    "     'Day Calls': [0.3, -4], \n",
    "     'Eve Mins': [0.5, -7], \n",
    "     'Night Mins': [-0.1, -1.5], \n",
    "     'Intl Mins': [0.1, 60], \n",
    "     'Intl Calls': [-0.5, 2], \n",
    "     'CustServ Calls': [-0.6, 100]}\n",
    "\n",
    "df_2 = pd.DataFrame(data=d)"
   ]
  },
  {
   "cell_type": "code",
   "execution_count": 24,
   "metadata": {},
   "outputs": [
    {
     "data": {
      "text/html": [
       "<div>\n",
       "<style scoped>\n",
       "    .dataframe tbody tr th:only-of-type {\n",
       "        vertical-align: middle;\n",
       "    }\n",
       "\n",
       "    .dataframe tbody tr th {\n",
       "        vertical-align: top;\n",
       "    }\n",
       "\n",
       "    .dataframe thead th {\n",
       "        text-align: right;\n",
       "    }\n",
       "</style>\n",
       "<table border=\"1\" class=\"dataframe\">\n",
       "  <thead>\n",
       "    <tr style=\"text-align: right;\">\n",
       "      <th></th>\n",
       "      <th>Account Length</th>\n",
       "      <th>Int'l Plan no</th>\n",
       "      <th>Int'l Plan yes</th>\n",
       "      <th>VMail Message</th>\n",
       "      <th>Day Mins</th>\n",
       "      <th>Day Calls</th>\n",
       "      <th>Eve Mins</th>\n",
       "      <th>Night Mins</th>\n",
       "      <th>Intl Mins</th>\n",
       "      <th>Intl Calls</th>\n",
       "      <th>CustServ Calls</th>\n",
       "    </tr>\n",
       "  </thead>\n",
       "  <tbody>\n",
       "    <tr>\n",
       "      <th>0</th>\n",
       "      <td>-0.2</td>\n",
       "      <td>1</td>\n",
       "      <td>0</td>\n",
       "      <td>-0.5</td>\n",
       "      <td>0.2</td>\n",
       "      <td>0.3</td>\n",
       "      <td>0.5</td>\n",
       "      <td>-0.1</td>\n",
       "      <td>0.1</td>\n",
       "      <td>-0.5</td>\n",
       "      <td>-0.6</td>\n",
       "    </tr>\n",
       "    <tr>\n",
       "      <th>1</th>\n",
       "      <td>10.0</td>\n",
       "      <td>0</td>\n",
       "      <td>1</td>\n",
       "      <td>20.0</td>\n",
       "      <td>-15.0</td>\n",
       "      <td>-4.0</td>\n",
       "      <td>-7.0</td>\n",
       "      <td>-1.5</td>\n",
       "      <td>60.0</td>\n",
       "      <td>2.0</td>\n",
       "      <td>100.0</td>\n",
       "    </tr>\n",
       "  </tbody>\n",
       "</table>\n",
       "</div>"
      ],
      "text/plain": [
       "   Account Length  Int'l Plan no  Int'l Plan yes  VMail Message  Day Mins  \\\n",
       "0            -0.2              1               0           -0.5       0.2   \n",
       "1            10.0              0               1           20.0     -15.0   \n",
       "\n",
       "   Day Calls  Eve Mins  Night Mins  Intl Mins  Intl Calls  CustServ Calls  \n",
       "0        0.3       0.5        -0.1        0.1        -0.5            -0.6  \n",
       "1       -4.0      -7.0        -1.5       60.0         2.0           100.0  "
      ]
     },
     "execution_count": 24,
     "metadata": {},
     "output_type": "execute_result"
    }
   ],
   "source": [
    "# Overlook.\n",
    "df_2.head(2)"
   ]
  },
  {
   "cell_type": "code",
   "execution_count": 25,
   "metadata": {},
   "outputs": [
    {
     "name": "stdout",
     "output_type": "stream",
     "text": [
      "73/73 [==============================] - 0s 740us/step - loss: 0.2629 - accuracy: 0.2371\n",
      "Test with samples that is within the range of observed features, predicted value is: 0\n",
      "Test with samples that is outside the range of observed features, predicted value is: 0\n"
     ]
    }
   ],
   "source": [
    "model_2 = create_model(3, 3)\n",
    "model_2.fit(x_train, y_train)\n",
    "\n",
    "X = np.array(df_2)\n",
    "pred = model_2.predict(X)\n",
    "\n",
    "for i in range(0,2):\n",
    "    if pred[i] < 0.5:\n",
    "        pred[i] = 0    \n",
    "    elif pred[i] >= 0.5:\n",
    "        pred[i] = 1\n",
    "        \n",
    "print(\"Test with samples that is within the range of observed features, predicted value is:\", int(pred[0,0]))\n",
    "print(\"Test with samples that is outside the range of observed features, predicted value is:\", int(pred[1,0]))"
   ]
  },
  {
   "cell_type": "markdown",
   "metadata": {},
   "source": [
    "### Activation functions comparison\n",
    "Change the hidden layer activation functions to *ReLU*, the output layer activation to *Softmax*, and the loss function to *cross-entropy*. Compare the result with the previous step."
   ]
  },
  {
   "cell_type": "code",
   "execution_count": 26,
   "metadata": {},
   "outputs": [],
   "source": [
    "def create_model_1(hidden_layer1, hidden_layer2):\n",
    "    model = keras.Sequential()\n",
    "    model.add(layers.Dense(hidden_layer1, input_dim=x_train.shape[1], activation='sigmoid'))\n",
    "    model.add(layers.Dense(hidden_layer2,  activation='sigmoid'))\n",
    "    model.add(layers.Dense(1,  activation='sigmoid'))\n",
    "    model.compile(loss='mean_squared_error', optimizer='sgd', metrics=['accuracy']) \n",
    "    return model\n",
    "\n",
    "def create_model_3(hidden_layer1, hidden_layer2):\n",
    "    model = keras.Sequential()\n",
    "    model.add(layers.Dense(hidden_layer1, input_dim=x_train.shape[1], activation='relu'))\n",
    "    model.add(layers.Dense(hidden_layer2,  activation='relu'))\n",
    "    model.add(layers.Dense(1,  activation='softmax'))\n",
    "    model.compile(loss='binary_crossentropy', optimizer='sgd', metrics=['accuracy']) \n",
    "    return model"
   ]
  },
  {
   "cell_type": "code",
   "execution_count": 27,
   "metadata": {},
   "outputs": [
    {
     "data": {
      "text/plain": [
       "'\\nmodel_3 = KerasClassifier(build_fn=create_model_3)\\n\\nparam_grid = {\\'hidden_layer1\\':range(2,5), \\'hidden_layer2\\':range(2,5)}\\ngrid = GridSearchCV(estimator=model_3, param_grid=param_grid)\\ngrid_result = grid.fit(x_train, y_train)\\n\\nprint(\"Best: %f using %s\" % (grid_result.best_score_, grid_result.best_params_))\\n'"
      ]
     },
     "execution_count": 27,
     "metadata": {},
     "output_type": "execute_result"
    }
   ],
   "source": [
    "# Best: 0.144885 using {'hidden_layer1': 2, 'hidden_layer2': 2}\n",
    "\n",
    "\"\"\"\n",
    "model_3 = KerasClassifier(build_fn=create_model_3)\n",
    "\n",
    "param_grid = {'hidden_layer1':range(2,5), 'hidden_layer2':range(2,5)}\n",
    "grid = GridSearchCV(estimator=model_3, param_grid=param_grid)\n",
    "grid_result = grid.fit(x_train, y_train)\n",
    "\n",
    "print(\"Best: %f using %s\" % (grid_result.best_score_, grid_result.best_params_))\n",
    "\"\"\""
   ]
  },
  {
   "cell_type": "code",
   "execution_count": 28,
   "metadata": {},
   "outputs": [
    {
     "name": "stdout",
     "output_type": "stream",
     "text": [
      "73/73 [==============================] - 0s 726us/step - loss: 0.2297 - accuracy: 0.8516\n"
     ]
    },
    {
     "data": {
      "text/plain": [
       "<tensorflow.python.keras.callbacks.History at 0x7ff68b9b5be0>"
      ]
     },
     "execution_count": 28,
     "metadata": {},
     "output_type": "execute_result"
    }
   ],
   "source": [
    "model_1 = create_model_1(3, 3)\n",
    "model_1.fit(x_train, y_train)"
   ]
  },
  {
   "cell_type": "code",
   "execution_count": 29,
   "metadata": {},
   "outputs": [
    {
     "name": "stdout",
     "output_type": "stream",
     "text": [
      "73/73 [==============================] - 0s 789us/step - loss: 0.3279 - accuracy: 0.1484\n"
     ]
    },
    {
     "data": {
      "text/plain": [
       "<tensorflow.python.keras.callbacks.History at 0x7ff66ec05a00>"
      ]
     },
     "execution_count": 29,
     "metadata": {},
     "output_type": "execute_result"
    }
   ],
   "source": [
    "model_3 = create_model_1(2, 2)\n",
    "model_3.fit(x_train, y_train)"
   ]
  },
  {
   "cell_type": "markdown",
   "metadata": {},
   "source": [
    "---"
   ]
  },
  {
   "cell_type": "markdown",
   "metadata": {},
   "source": [
    "### Discussion "
   ]
  },
  {
   "cell_type": "markdown",
   "metadata": {},
   "source": [
    ">#### Trade-off of number of hidden layers\n",
    "In machine learning's neural network, there are basically two kinds of neural networks:\n",
    "<br>\n",
    "&emsp;&emsp;    ANN (Artificial neural networks) are simple NN with only 0 or 1 layer.\n",
    "<br>\n",
    "&emsp;&emsp;    DNN (Deep neural networks) which are more complex NN, usually has 2 to 8 hidden layers.\n",
    "<br>\n",
    "<br>\n",
    "A large number of hidden layers means highly increased training time, especially during the back-propagation when the network needs to go forward and backward among layers to update parameters.\n",
    "<br>\n",
    "<br>\n",
    "However, increasing the number of hidden layers can increase the accuracy of neural networks.\n",
    "<br>\n",
    "<br>\n",
    "Overall, the trade-off of using a large number of hidden layers is spending more time training and updating the NN model, but have the more accurate NN model."
   ]
  },
  {
   "cell_type": "markdown",
   "metadata": {},
   "source": [
    ">#### Trade-off of learning rate\n",
    "The learning rate is the most important hyper-parameters used in updating neural networks' weight value. A commonly used value of learning rate is 0.1, which means 10% of the estimated weight error when each time updating the weights.\n",
    "<br>\n",
    "<br>\n",
    "Using a large learning rate can make the NN model learn faster, but it will generate a sub-optimal final set of weights after turns of updates.\n",
    "<br>\n",
    "<br>\n",
    "Oppositely, a smaller learning rate can cause the NN model to learn more optimal weights, or even perfect weights, but will spend significantly longer time training the NN model.\n",
    "<br>\n",
    "<br>\n",
    "Overall, the trade-off of using a large learning rate is that it will update sub-optimal weights, but it can make the NN model learn faster."
   ]
  },
  {
   "cell_type": "code",
   "execution_count": null,
   "metadata": {},
   "outputs": [],
   "source": []
  }
 ],
 "metadata": {
  "kernelspec": {
   "display_name": "Python 3",
   "language": "python",
   "name": "python3"
  },
  "language_info": {
   "codemirror_mode": {
    "name": "ipython",
    "version": 3
   },
   "file_extension": ".py",
   "mimetype": "text/x-python",
   "name": "python",
   "nbconvert_exporter": "python",
   "pygments_lexer": "ipython3",
   "version": "3.8.5"
  }
 },
 "nbformat": 4,
 "nbformat_minor": 4
}
